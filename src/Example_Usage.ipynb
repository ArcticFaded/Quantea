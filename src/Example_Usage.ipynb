{
 "cells": [
  {
   "cell_type": "code",
   "execution_count": 12,
   "metadata": {},
   "outputs": [
    {
     "data": {
      "text/plain": [
       "<marketsim.historic_back_trader.HistoricBackTrader at 0x116f79eb8>"
      ]
     },
     "execution_count": 12,
     "metadata": {},
     "output_type": "execute_result"
    }
   ],
   "source": [
    "from marketsim.historic_back_trader import HistoricBackTrader\n",
    "from technical_indicators.standard_indicators import BollingerBand, EMA, MACD\n",
    "from sklearn.ensemble import RandomForestClassifier, AdaBoostClassifier\n",
    "from datetime import datetime\n",
    "from actions.get_stock_data import get_historical_prices\n",
    "import numpy as np\n",
    "\n",
    "start = datetime(2014, 1, 1)\n",
    "end = datetime.now()\n",
    "\n",
    "tokens = ['AAPL', 'NVDA']\n",
    "\n",
    "# example call with fake token (replace with your own)\n",
    "x = get_historical_prices(start=start, end=end, stocks=tokens, token='your_iex_token_here')\n",
    "\n",
    "clf = AdaBoostClassifier(n_estimators=2,) #max_depth=2)\n",
    "\n",
    "trader = HistoricBackTrader(clf, stocks_df=x, train_stock='NVDA', verbose=True)\n",
    "\n",
    "trader.add_feature(BollingerBand(N_day=26))\n",
    "trader.add_feature(MACD(N1=26, N2=12))\n",
    "\n",
    "trader.add_discritizer(lambda x: np.sum(x, axis=1))\n"
   ]
  },
  {
   "cell_type": "code",
   "execution_count": 24,
   "metadata": {},
   "outputs": [
    {
     "name": "stdout",
     "output_type": "stream",
     "text": [
      "Strategic-Based Stats: -----\n",
      "Cumulative Return: 13.873305907009247\n",
      "StdDev on Daily Returns: 1.8183909855386293\n",
      "Mean on Daily Returns: 0.07970950787452083\n"
     ]
    },
    {
     "data": {
      "text/plain": [
       "array([0. , 0.5, 0.5])"
      ]
     },
     "execution_count": 24,
     "metadata": {},
     "output_type": "execute_result"
    }
   ],
   "source": [
    "tt = trader.train(market_impact=0.9)\n",
    "tt.learner.feature_importances_"
   ]
  },
  {
   "cell_type": "code",
   "execution_count": 25,
   "metadata": {},
   "outputs": [
    {
     "name": "stderr",
     "output_type": "stream",
     "text": [
      "/usr/local/lib/python3.6/site-packages/pandas/core/indexing.py:630: SettingWithCopyWarning: \n",
      "A value is trying to be set on a copy of a slice from a DataFrame.\n",
      "Try using .loc[row_indexer,col_indexer] = value instead\n",
      "\n",
      "See the caveats in the documentation: http://pandas.pydata.org/pandas-docs/stable/indexing.html#indexing-view-versus-copy\n",
      "  self.obj[item_labels[indexer[info_axis]]] = value\n"
     ]
    },
    {
     "name": "stdout",
     "output_type": "stream",
     "text": [
      "Strategic-Based Stats: -----\n",
      "Cumulative Return: -1.8393838663644857\n",
      "StdDev on Daily Returns: 1.74255366119171\n",
      "Mean on Daily Returns: 0.029432172789591513\n"
     ]
    }
   ],
   "source": [
    "testt = trader.test()"
   ]
  }
 ],
 "metadata": {
  "kernelspec": {
   "display_name": "Python 3",
   "language": "python",
   "name": "python3"
  },
  "language_info": {
   "codemirror_mode": {
    "name": "ipython",
    "version": 3
   },
   "file_extension": ".py",
   "mimetype": "text/x-python",
   "name": "python",
   "nbconvert_exporter": "python",
   "pygments_lexer": "ipython3",
   "version": "3.6.5"
  }
 },
 "nbformat": 4,
 "nbformat_minor": 2
}
