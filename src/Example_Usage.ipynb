{
 "cells": [
  {
   "cell_type": "code",
   "execution_count": null,
   "metadata": {},
   "outputs": [],
   "source": [
    "from marketsim.historic_back_trader import HistoricBackTrader\n",
    "from technical_indicators.standard_indicators import BollingerBand, EMA\n",
    "from sklearn.ensemble import RandomForestClassifier\n",
    "from datetime import datetime\n",
    "from actions.get_stock_data import get_historical_prices\n",
    "\n",
    "\n",
    "start = datetime(2014, 1, 1)\n",
    "end = datetime.now()\n",
    "\n",
    "tokens = ['AAPL', 'NVDA']\n",
    "\n",
    "# example call with fake token (replace with your own)\n",
    "x = get_historical_prices(start=start, end=end, stocks=tokens, token='iex_token')\n",
    "\n",
    "clf = RandomForestClassifier(n_estimators=100, max_depth=2, random_state=0)\n",
    "\n",
    "trader = HistoricBackTrader(clf, stocks_df=x.AAPL)\n",
    "\n",
    "trader.add_feature(BollingerBand(N_day=20))\n",
    "trader.add_feature(EMA(N_day=5))\n"
   ]
  },
  {
   "cell_type": "code",
   "execution_count": null,
   "metadata": {},
   "outputs": [],
   "source": []
  }
 ],
 "metadata": {
  "kernelspec": {
   "display_name": "Python 3",
   "language": "python",
   "name": "python3"
  },
  "language_info": {
   "codemirror_mode": {
    "name": "ipython",
    "version": 3
   },
   "file_extension": ".py",
   "mimetype": "text/x-python",
   "name": "python",
   "nbconvert_exporter": "python",
   "pygments_lexer": "ipython3",
   "version": "3.6.5"
  }
 },
 "nbformat": 4,
 "nbformat_minor": 2
}
